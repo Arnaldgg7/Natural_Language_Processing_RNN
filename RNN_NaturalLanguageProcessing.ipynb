{
  "nbformat": 4,
  "nbformat_minor": 0,
  "metadata": {
    "colab": {
      "name": "RNN_NaturalLanguageProcessing",
      "provenance": [],
      "collapsed_sections": [],
      "toc_visible": true,
      "include_colab_link": true
    },
    "kernelspec": {
      "display_name": "Python 3",
      "language": "python",
      "name": "python3"
    },
    "language_info": {
      "codemirror_mode": {
        "name": "ipython",
        "version": 3
      },
      "file_extension": ".py",
      "mimetype": "text/x-python",
      "name": "python",
      "nbconvert_exporter": "python",
      "pygments_lexer": "ipython3",
      "version": "3.7.0"
    },
    "accelerator": "GPU"
  },
  "cells": [
    {
      "cell_type": "markdown",
      "metadata": {
        "id": "view-in-github",
        "colab_type": "text"
      },
      "source": [
        "<a href=\"https://colab.research.google.com/github/Arnaldgg7/Natural_Language_Processing_RNN/blob/main/RNN_NaturalLanguageProcessing.ipynb\" target=\"_parent\"><img src=\"https://colab.research.google.com/assets/colab-badge.svg\" alt=\"Open In Colab\"/></a>"
      ]
    },
    {
      "cell_type": "markdown",
      "metadata": {
        "id": "YiFJQYu95A6B"
      },
      "source": [
        "# Text classification from scratch\n",
        "\n",
        "This document is based on the original notebook by Mark Omernick, Francois Chollet https://keras.io/examples/nlp/text_classification_from_scratch/"
      ]
    },
    {
      "cell_type": "markdown",
      "metadata": {
        "id": "tGXU1xHE5A6J"
      },
      "source": [
        "## Introduction\n",
        "\n",
        "This example shows how to do text classification starting from raw text. We demonstrate the workflow on the Tweeter Airlines sentiment\n",
        "classification dataset (https://www.kaggle.com/crowdflower/twitter-airline-sentiment)"
      ]
    },
    {
      "cell_type": "markdown",
      "metadata": {
        "id": "PGd4pEGf5A6K"
      },
      "source": [
        "## Setup\n",
        "\n",
        "First of all we are going to set up our environment. Our Deep Learning framework is going to be Keras. A framework on top of TensorFlow that allows data prepocessing and Neural Networks training in a simpler way.\n",
        "\n",
        "Our first step is fixing the random seeds for our libraries. This is not required for your experiments but helps ensuring that everytime you run this code you get the same results"
      ]
    },
    {
      "cell_type": "code",
      "metadata": {
        "id": "kx8Hz0Qm5A6K"
      },
      "source": [
        "import tensorflow as tf\n",
        "import numpy as np\n",
        "\n",
        "\n",
        "\n",
        "from numpy.random import seed\n",
        "seed(42)\n",
        "\n",
        "from tensorflow.random import set_seed\n",
        "set_seed(42)"
      ],
      "execution_count": null,
      "outputs": []
    },
    {
      "cell_type": "markdown",
      "metadata": {
        "id": "Yn--zbyi5A6L"
      },
      "source": [
        "## Load the data: US Airlines Tweets\n",
        "\n",
        "> Bloque con sangría\n",
        "\n",
        "\n",
        "\n",
        "Let's download the data, the data for this experiments comes from tweets about US Airlines.\n",
        "\n",
        "In this repository you can find similar data about COVID-19 tweets in case you want to practice more these tasks: \n",
        "\n",
        "https://github.com/carlosep93/Text-classification-with-Keras-lab\n",
        "\n",
        "\n",
        "Our data is organized as follows:\n",
        "\n",
        "* tweets.txt: Plain text containing the tweets from the users. One tweet per line \n",
        "\n",
        "* labels.txt: Labels containg (Positive, Negative, Neutral), one per line in the same order as the tweets"
      ]
    },
    {
      "cell_type": "code",
      "metadata": {
        "id": "yaZZHd5x5A6L",
        "colab": {
          "base_uri": "https://localhost:8080/"
        },
        "outputId": "6da035c7-b3a3-43ce-8e0e-c808a2acd095"
      },
      "source": [
        "# Download Tweets\n",
        "!curl -O https://raw.githubusercontent.com/carlosep93/Text-classification-with-Keras-lab/master/data/airline/tweets.txt\n",
        "\n",
        "#Download Labels\n",
        "!curl -O https://raw.githubusercontent.com/carlosep93/Text-classification-with-Keras-lab/master/data/airline/labels.txt"
      ],
      "execution_count": null,
      "outputs": [
        {
          "output_type": "stream",
          "text": [
            "  % Total    % Received % Xferd  Average Speed   Time    Time     Time  Current\n",
            "                                 Dload  Upload   Total   Spent    Left  Speed\n",
            "100 1508k  100 1508k    0     0  2115k      0 --:--:-- --:--:-- --:--:-- 2112k\n",
            "  % Total    % Received % Xferd  Average Speed   Time    Time     Time  Current\n",
            "                                 Dload  Upload   Total   Spent    Left  Speed\n",
            "100  125k  100  125k    0     0   283k      0 --:--:-- --:--:-- --:--:--  282k\n"
          ],
          "name": "stdout"
        }
      ]
    },
    {
      "cell_type": "markdown",
      "metadata": {
        "id": "9ls3xP-oQjFX"
      },
      "source": [
        "Let's define our methods to read our raw data files into the notebook to start working with them "
      ]
    },
    {
      "cell_type": "code",
      "metadata": {
        "id": "S9EYMgjo5A6M"
      },
      "source": [
        "def read_file(file_name):\n",
        "  raw_text = []\n",
        "  with open(file_name,'rb') as f:\n",
        "    return [str(line.strip()) for line in f.readlines()]\n",
        "  "
      ],
      "execution_count": null,
      "outputs": []
    },
    {
      "cell_type": "code",
      "metadata": {
        "id": "7IYr4lhP5A6M"
      },
      "source": [
        "tweets = read_file('tweets.txt')\n",
        "\n",
        "labels = read_file('labels.txt')"
      ],
      "execution_count": null,
      "outputs": []
    },
    {
      "cell_type": "markdown",
      "metadata": {
        "id": "DW-VBWvSRIsT"
      },
      "source": [
        "As the data comes in a single file let's split it in Training, Validation and Test as you have seen in previos examples. To do so we are going to use SK-Learn default tool."
      ]
    },
    {
      "cell_type": "code",
      "metadata": {
        "id": "v5wy8tfTYkG8"
      },
      "source": [
        "from sklearn.model_selection import train_test_split\n",
        "\n",
        "tweets_train, tweets_test, labels_train, labels_test = train_test_split(tweets, \n",
        "                                                                        labels, \n",
        "                                                                        test_size=0.33, \n",
        "                                                                        random_state=42)\n",
        "\n",
        "tweets_train, tweets_valid, labels_train, labels_valid = train_test_split(tweets_train, \n",
        "                                                                        labels_train, \n",
        "                                                                        test_size=0.33, \n",
        "                                                                        random_state=42)"
      ],
      "execution_count": null,
      "outputs": []
    },
    {
      "cell_type": "markdown",
      "metadata": {
        "id": "ZPXripxwR1zm"
      },
      "source": [
        "# Prepare Labels\n",
        "\n",
        "Labels come in single words, but for the network to undestand them we need them to be numeric values, and more precisely one hot vectors stating the correct class in the following form:\n",
        "\n",
        "neutral ->  [1,0,0]\n",
        "positive -> [0,1,0]\n",
        "negative -> [0,0,1]\n"
      ]
    },
    {
      "cell_type": "code",
      "metadata": {
        "colab": {
          "base_uri": "https://localhost:8080/"
        },
        "id": "xZAhrU6oT8vK",
        "outputId": "bf03013a-ed84-45f9-cf49-ae36039fc05c"
      },
      "source": [
        "label_dict = {l:i for i,l in enumerate(set(labels_train))}\n",
        "print(label_dict)"
      ],
      "execution_count": null,
      "outputs": [
        {
          "output_type": "stream",
          "text": [
            "{\"b'negative'\": 0, \"b'neutral'\": 1, \"b'positive'\": 2}\n"
          ],
          "name": "stdout"
        }
      ]
    },
    {
      "cell_type": "code",
      "metadata": {
        "id": "nhKsPKzsUgO8"
      },
      "source": [
        "def prepare_labels(split, label_dict=label_dict):\n",
        "  prep_labels = []\n",
        "  for label in split:\n",
        "    idx = label_dict[label]\n",
        "    classes = [0]*len(label_dict)\n",
        "    classes[idx] = 1\n",
        "    prep_labels.append(classes)\n",
        "  return np.asarray(prep_labels)"
      ],
      "execution_count": null,
      "outputs": []
    },
    {
      "cell_type": "code",
      "metadata": {
        "id": "tCK1tKpLVMJu"
      },
      "source": [
        "prep_labels_train = prepare_labels(labels_train, label_dict)\n",
        "prep_labels_valid = prepare_labels(labels_valid, label_dict)\n",
        "prep_labels_test = prepare_labels(labels_test, label_dict)"
      ],
      "execution_count": null,
      "outputs": []
    },
    {
      "cell_type": "code",
      "metadata": {
        "colab": {
          "base_uri": "https://localhost:8080/"
        },
        "id": "NaJET5g7Vll_",
        "outputId": "4f972423-a310-4bb0-a00b-586577b4d021"
      },
      "source": [
        "prep_labels_train[0]"
      ],
      "execution_count": null,
      "outputs": [
        {
          "output_type": "execute_result",
          "data": {
            "text/plain": [
              "array([0, 1, 0])"
            ]
          },
          "metadata": {
            "tags": []
          },
          "execution_count": 9
        }
      ]
    },
    {
      "cell_type": "markdown",
      "metadata": {
        "id": "AvaMoosx-eVl"
      },
      "source": [
        "# Preprocess data\n",
        "\n",
        "Raw data has noise and ambiguities that may affect the performance of our model. Let's start by removing some of them following the steps seen during the lectures:\n",
        "\n",
        "- Remove urls in the text\n",
        "- Tokenization\n",
        "- Lower casing\n",
        "- Remove punctuation and stop words \n",
        "- Stemming \n"
      ]
    },
    {
      "cell_type": "code",
      "metadata": {
        "colab": {
          "base_uri": "https://localhost:8080/"
        },
        "id": "Ez1UT-Qu_1B_",
        "outputId": "349e1b3b-24ab-418b-d386-f0df6c80ee7e"
      },
      "source": [
        "import re\n",
        "import nltk\n",
        "nltk.download('stopwords')\n",
        "\n",
        "from nltk.corpus import stopwords\n",
        "from nltk.stem.porter import PorterStemmer\n",
        "from nltk.tokenize import TweetTokenizer\n",
        "\n",
        "stop_words = list(stopwords.words('english')) #About 150 stopwords\n",
        "stemmer = PorterStemmer()\n",
        "tknzr = TweetTokenizer()\n",
        "\n",
        "def clean_data(split):\n",
        "  clean_split = []\n",
        "  for sentence in split:\n",
        "    #Remove urls \n",
        "    sentence = re.sub(r'http\\S+', '', sentence)\n",
        "    #Tokenize\n",
        "    sentence = tknzr.tokenize(sentence)\n",
        "    #Lower Casing & Remove Stop Words (conditional if-statements corrected, so that we now do get rid of the punctuation marks)\n",
        "    sentence = [word.lower() for word in sentence \n",
        "                  if word not in stop_words \n",
        "                  and word.isalnum()]\n",
        "    #Stemming\n",
        "    sentence = ' '.join([stemmer.stem(word) for word in sentence])\n",
        "    \n",
        "    clean_split.append(sentence)\n",
        "\n",
        "  return clean_split\n"
      ],
      "execution_count": null,
      "outputs": [
        {
          "output_type": "stream",
          "text": [
            "[nltk_data] Downloading package stopwords to /root/nltk_data...\n",
            "[nltk_data]   Unzipping corpora/stopwords.zip.\n"
          ],
          "name": "stdout"
        }
      ]
    },
    {
      "cell_type": "code",
      "metadata": {
        "id": "V9-VTKPeBaNB"
      },
      "source": [
        "clean_tweets_train = clean_data(tweets_train)\n",
        "clean_tweets_valid = clean_data(tweets_valid)\n",
        "clean_tweets_test = clean_data(tweets_test)"
      ],
      "execution_count": null,
      "outputs": []
    },
    {
      "cell_type": "code",
      "metadata": {
        "colab": {
          "base_uri": "https://localhost:8080/",
          "height": 36
        },
        "id": "fr6jNjnNBp8j",
        "outputId": "249d6757-60cf-4085-c604-4e8603cf790d"
      },
      "source": [
        "clean_tweets_train[1]"
      ],
      "execution_count": null,
      "outputs": [
        {
          "output_type": "execute_result",
          "data": {
            "application/vnd.google.colaboratory.intrinsic+json": {
              "type": "string"
            },
            "text/plain": [
              "'b wish everyon felt like'"
            ]
          },
          "metadata": {
            "tags": []
          },
          "execution_count": 12
        }
      ]
    },
    {
      "cell_type": "markdown",
      "metadata": {
        "id": "JOHEKmP4_FCS"
      },
      "source": [
        "# Create Vocabulary\n",
        "\n",
        "We are going to compute the vocabulary of words that our model is able to understand. max_features defines its size. Any other word in the text will be replaced by UNK in the text.\n",
        "\n",
        "To do so we are going to use the Keras class TextVectorization. This class does two important things for us:\n",
        "\n",
        "- Compute the vocabulary and transform the sentences into vectors of indices. These indices are the position of each word in the vocabulary.\n",
        "\n",
        "- Pad all sentences to the same lenght, to ensure that the model is able to create the batches without errors."
      ]
    },
    {
      "cell_type": "markdown",
      "metadata": {
        "id": "OJdfZfVKS11M"
      },
      "source": [
        "We need to represent our data in TensorFlow format. To do that we need to creat Datasets."
      ]
    },
    {
      "cell_type": "code",
      "metadata": {
        "id": "nQtSzjt4GKor"
      },
      "source": [
        "raw_train_ds = tf.data.Dataset.from_tensor_slices((clean_tweets_train, prep_labels_train))\n",
        "raw_test_ds = tf.data.Dataset.from_tensor_slices((clean_tweets_test, prep_labels_test))\n",
        "raw_valid_ds = tf.data.Dataset.from_tensor_slices((clean_tweets_valid, prep_labels_valid))"
      ],
      "execution_count": null,
      "outputs": []
    },
    {
      "cell_type": "markdown",
      "metadata": {
        "id": "RJk5VJpATCJ-"
      },
      "source": [
        "One we have our dataset we can create our TextVectorization layer. To train the vocabulary for our task we are using its method adapt only on the training data. "
      ]
    },
    {
      "cell_type": "code",
      "metadata": {
        "id": "0xGuPg1o5A6N"
      },
      "source": [
        "from tensorflow.keras.layers.experimental.preprocessing import TextVectorization\n",
        "\n",
        "max_features = 2000\n",
        "sequence_length = 20\n",
        "UNK = '<unk>'\n",
        "\n",
        "vectorize_layer = TextVectorization(\n",
        "    max_tokens=2000,\n",
        "    output_mode=\"int\",\n",
        "    output_sequence_length=sequence_length,\n",
        ")\n",
        "\n",
        "# Let's make a text-only dataset (no labels):\n",
        "text_ds = raw_train_ds.map(lambda x, y: x)\n",
        "# Let's call `adapt`:\n",
        "vectorize_layer.adapt(text_ds)"
      ],
      "execution_count": null,
      "outputs": []
    },
    {
      "cell_type": "markdown",
      "metadata": {
        "id": "x0TunwK-5A6Q"
      },
      "source": [
        "## Prepare the data\n",
        "\n",
        "We have to apply our vectorization layer to each of the sentences to have everything in the desired format of the network"
      ]
    },
    {
      "cell_type": "code",
      "metadata": {
        "id": "_IGZ0ujYjsN6"
      },
      "source": [
        "def vectorize_text(text, label):\n",
        "    text = tf.expand_dims(text, -1)\n",
        "    tensor_label = tf.convert_to_tensor(label)\n",
        "    tensor_label = tf.reshape(tensor_label,[1,n_labels])\n",
        "    return vectorize_layer(text), tensor_label\n"
      ],
      "execution_count": null,
      "outputs": []
    },
    {
      "cell_type": "code",
      "metadata": {
        "id": "xwUEFJbajznG"
      },
      "source": [
        "n_labels = len(label_dict)\n",
        "\n",
        "train_ds = raw_train_ds.map(vectorize_text)\n",
        "valid_ds = raw_valid_ds.map(vectorize_text)\n",
        "test_ds = raw_test_ds.map(vectorize_text)"
      ],
      "execution_count": null,
      "outputs": []
    },
    {
      "cell_type": "code",
      "metadata": {
        "colab": {
          "base_uri": "https://localhost:8080/"
        },
        "id": "WkhegmLOBwtQ",
        "outputId": "b4d4b677-ef5e-448d-8565-dbd76afc263e"
      },
      "source": [
        "for batch in test_ds:\n",
        "  print(batch)\n",
        "  break"
      ],
      "execution_count": null,
      "outputs": [
        {
          "output_type": "stream",
          "text": [
            "(<tf.Tensor: shape=(1, 20), dtype=int64, numpy=\n",
            "array([[  2, 356,   1, 148,  30,   0,   0,   0,   0,   0,   0,   0,   0,\n",
            "          0,   0,   0,   0,   0,   0,   0]])>, <tf.Tensor: shape=(1, 3), dtype=int64, numpy=array([[0, 0, 1]])>)\n"
          ],
          "name": "stdout"
        }
      ]
    },
    {
      "cell_type": "markdown",
      "metadata": {
        "id": "RqHrUYHzTgdl"
      },
      "source": [
        "As it might be seen, the sentences are sequences of numbers that correspond to the indices in our vocabulary."
      ]
    },
    {
      "cell_type": "markdown",
      "metadata": {
        "id": "ssx_er4_9yzO"
      },
      "source": [
        "# Pooling Model\n",
        "\n",
        "Having the data ready we have to create our neural network model. As you can see Keras allows us to create our models as a series of layers that get as input the output of the previous ones. In this example we are going a simple model similar to the one explained during the lectures. The model consists of three main parts:\n",
        "\n",
        "- Embedding layer: Transforms the indices into vectors that are specific for each of the words in our vocabulary.\n",
        "\n",
        "- Pooling: To have fixed size representations of our sentences we are going to conmpute the mean of the embeddings of all words in the sentence.\n",
        "\n",
        "- Output Layer: From the representation of the whole sentence is computes the probability of each class. This done by applying a  dense layer with softmax activation.\n",
        "\n",
        "Once the structure of the model is complete, we just have to compite it, and everything is ready to train.\n"
      ]
    },
    {
      "cell_type": "code",
      "metadata": {
        "id": "TPxG0hx_94N_",
        "colab": {
          "base_uri": "https://localhost:8080/"
        },
        "outputId": "551db7b5-c30b-4378-81a4-ce4575b2f7ab"
      },
      "source": [
        "from tensorflow.keras import layers\n",
        "from tensorflow.keras.backend import mean\n",
        "from tensorflow.keras.optimizers import Adam\n",
        "\n",
        "embedding_dim = 100\n",
        "\n",
        "\n",
        "\n",
        "# Text input\n",
        "inputs = tf.keras.Input(shape=(None,), dtype=\"int64\")\n",
        "\n",
        "# Next, we add a layer to map those vocab indices into a space of dimensionality\n",
        "# 'embedding_dim'.\n",
        "x = layers.Embedding(max_features, embedding_dim)(inputs)\n",
        "print(\"Embedding: \", x)\n",
        "x = mean(x,axis=1)\n",
        "print(\"Mean: \", x)\n",
        "\n",
        "x = layers.Dropout(0.3)(x)\n",
        "\n",
        "# We project onto a single unit output layer:\n",
        "predictions = layers.Dense(n_labels, activation=\"softmax\", name=\"predictions\")(x)\n",
        "\n",
        "model = tf.keras.Model(inputs, predictions)\n",
        "\n",
        "# Compile the model with crossentropy loss and an adam optimizer.\n",
        "opt = Adam(learning_rate=0.001)\n",
        "model.compile(loss=\"categorical_crossentropy\", optimizer=opt, metrics=[\"accuracy\"])"
      ],
      "execution_count": null,
      "outputs": [
        {
          "output_type": "stream",
          "text": [
            "Embedding:  KerasTensor(type_spec=TensorSpec(shape=(None, None, 100), dtype=tf.float32, name=None), name='embedding_7/embedding_lookup/Identity_1:0', description=\"created by layer 'embedding_7'\")\n",
            "Mean:  KerasTensor(type_spec=TensorSpec(shape=(None, 100), dtype=tf.float32, name=None), name='tf.math.reduce_mean_7/Mean:0', description=\"created by layer 'tf.math.reduce_mean_7'\")\n"
          ],
          "name": "stdout"
        }
      ]
    },
    {
      "cell_type": "markdown",
      "metadata": {
        "id": "X2Cq8ZL-U3p_"
      },
      "source": [
        "We just have to train our model for some epochs. Take a look at the validation error to prevent the model from overfitting."
      ]
    },
    {
      "cell_type": "code",
      "metadata": {
        "id": "4lnuR6wt-WK7",
        "colab": {
          "base_uri": "https://localhost:8080/"
        },
        "outputId": "18befa05-2377-4344-de04-973155f61fdd"
      },
      "source": [
        "epochs = 3\n",
        "batch_size = 32\n",
        "\n",
        "# Fit the model using the train and test datasets.\n",
        "model.fit(train_ds,\n",
        "          validation_data=valid_ds, \n",
        "          epochs=epochs, \n",
        "          batch_size=batch_size)"
      ],
      "execution_count": null,
      "outputs": [
        {
          "output_type": "stream",
          "text": [
            "Epoch 1/3\n",
            "6571/6571 [==============================] - 23s 3ms/step - loss: 0.8113 - accuracy: 0.6547 - val_loss: 0.5873 - val_accuracy: 0.7652\n",
            "Epoch 2/3\n",
            "6571/6571 [==============================] - 23s 3ms/step - loss: 0.5423 - accuracy: 0.7723 - val_loss: 0.5549 - val_accuracy: 0.7776\n",
            "Epoch 3/3\n",
            "6571/6571 [==============================] - 22s 3ms/step - loss: 0.4720 - accuracy: 0.8103 - val_loss: 0.5665 - val_accuracy: 0.7760\n"
          ],
          "name": "stdout"
        },
        {
          "output_type": "execute_result",
          "data": {
            "text/plain": [
              "<tensorflow.python.keras.callbacks.History at 0x7f45bceb2d90>"
            ]
          },
          "metadata": {
            "tags": []
          },
          "execution_count": 80
        }
      ]
    },
    {
      "cell_type": "markdown",
      "metadata": {
        "id": "YezMb-oiVAyc"
      },
      "source": [
        "And test its performance on the test set to see how well it generates on new data."
      ]
    },
    {
      "cell_type": "code",
      "metadata": {
        "id": "LHYHXJvxBg6u",
        "colab": {
          "base_uri": "https://localhost:8080/"
        },
        "outputId": "e45499bc-25a3-4333-d748-73961fdaf851"
      },
      "source": [
        "# Test it with `raw_test_ds`, which yields raw strings\n",
        "model.evaluate(test_ds)"
      ],
      "execution_count": null,
      "outputs": [
        {
          "output_type": "stream",
          "text": [
            "4832/4832 [==============================] - 5s 966us/step - loss: 0.5466 - accuracy: 0.7879\n"
          ],
          "name": "stdout"
        },
        {
          "output_type": "execute_result",
          "data": {
            "text/plain": [
              "[0.5466060042381287, 0.7878724932670593]"
            ]
          },
          "metadata": {
            "tags": []
          },
          "execution_count": 81
        }
      ]
    },
    {
      "cell_type": "markdown",
      "metadata": {
        "id": "795afRDQlLIJ"
      },
      "source": [
        "## **Introduction**\n",
        "\n",
        "Such previous Neural Network architecture is based on an **Embedding Layer** as first layer *(layer to which we provide the fixed-size vectors of integers of length '20' corresponding to all pre-processed words from each tweet that are mapped to the Word Embeddings Table)*. Recall that those tweets that didn't have 20 words were 'padded' when using the 'TextVectorization()' class in the function 'vectorize_text()' in order to be all of them made of 20 integers *(along with the label or predicted variable as a 2nd argument of the tuple)*, so that we always provide the same size of input vectors to the Neural Network. Within such layer, a mapping of integers to the Word Embeddings Table is performed, which results in 20 word vectors of '100' dimensions as output of this layer, as it is the dimension of the Word Embeddings Table.\n",
        "\n",
        "Then, we need a '**summary vector**' as a representation of each sentence to provide to the Fully-Connected Layer to perform classifications with. To this end, a '**Mean**' along the columns (axis=1), that is, over the same vector dimensions or positions in all word vectors of each sentence, was implemented to summarise all word vectors into one single summary vector with the same length or dimensions than the dimension of the Word Embeddings Table.\n",
        "\n",
        "Next to this summarization, a **Dropout Layer** is added, which 'cuts' or 'switch off' the transfer of the weights *(vector values from the previous summary vector)* to the next layer, so that we don't let the Neural Network to perfectly fit the data, thereby making Overfitting more difficult to happen.\n",
        "\n",
        "Finally, a **Fully-Connected or Dense Layer** is added with as many neurons as different classes we have for classification, along with the usual 'Softmax' Activation Function to output such probabilities for each class and choose the highest one.\n",
        "\n",
        "From now on, we are going to try to outperform the previous results, starting from the 78.79% of global Accuracy over the 3 existing classes ('Neutral', 'Positive' and 'Negative') overall."
      ]
    },
    {
      "cell_type": "markdown",
      "metadata": {
        "id": "jGvMMuV4pBaz"
      },
      "source": [
        "# **1. Different values of embedding_dim.**"
      ]
    },
    {
      "cell_type": "code",
      "metadata": {
        "id": "EffPJnYjyWmP"
      },
      "source": [
        "from sklearn.metrics import classification_report, confusion_matrix\n",
        "from matplotlib import pyplot as plt\n",
        "import pandas as pd\n",
        "# Functions to output more accurate results and plot the training evolution of the Neural Network:\n",
        "def print_acc(conf_mat):\n",
        "    ok = conf_mat[0,0] + conf_mat[1,1] + conf_mat[2,2]\n",
        "    return(ok/sum(sum(conf_mat)))\n",
        "\n",
        "def plot_history(history):\n",
        "    plt.plot(history.history['accuracy'])\n",
        "    plt.plot(history.history['val_accuracy'])\n",
        "    plt.title('model accuracy')\n",
        "    plt.ylabel('accuracy')\n",
        "    plt.xlabel('epoch')\n",
        "    plt.legend(['train', 'val'], loc='upper left')\n",
        "    plt.show()"
      ],
      "execution_count": null,
      "outputs": []
    },
    {
      "cell_type": "code",
      "metadata": {
        "colab": {
          "base_uri": "https://localhost:8080/"
        },
        "id": "moJFJ9QIxAK0",
        "outputId": "88f1c7ea-a786-4561-86cb-4ca7d3d79629"
      },
      "source": [
        "embedding_dim = 10\n",
        "\n",
        "\n",
        "\n",
        "# Text input\n",
        "inputs = tf.keras.Input(shape=(None,), dtype=\"int64\")\n",
        "\n",
        "# Next, we add a layer to map those vocab indices into a space of dimensionality\n",
        "# 'embedding_dim'.\n",
        "x = layers.Embedding(max_features, embedding_dim)(inputs)\n",
        "print(\"Embedding: \", x)\n",
        "x = mean(x,axis=1)\n",
        "print(\"Mean: \", x)\n",
        "\n",
        "x = layers.Dropout(0.3)(x)\n",
        "\n",
        "# We project onto a single unit output layer:\n",
        "predictions = layers.Dense(n_labels, activation=\"softmax\", name=\"predictions\")(x)\n",
        "\n",
        "model2 = tf.keras.Model(inputs, predictions)\n",
        "\n",
        "# Compile the model with crossentropy loss and an adam optimizer.\n",
        "opt = Adam(learning_rate=0.001)\n",
        "model2.compile(loss=\"categorical_crossentropy\", optimizer=opt, metrics=[\"accuracy\"])"
      ],
      "execution_count": null,
      "outputs": [
        {
          "output_type": "stream",
          "text": [
            "Embedding:  KerasTensor(type_spec=TensorSpec(shape=(None, None, 10), dtype=tf.float32, name=None), name='embedding_8/embedding_lookup/Identity_1:0', description=\"created by layer 'embedding_8'\")\n",
            "Mean:  KerasTensor(type_spec=TensorSpec(shape=(None, 10), dtype=tf.float32, name=None), name='tf.math.reduce_mean_8/Mean:0', description=\"created by layer 'tf.math.reduce_mean_8'\")\n"
          ],
          "name": "stdout"
        }
      ]
    },
    {
      "cell_type": "code",
      "metadata": {
        "colab": {
          "base_uri": "https://localhost:8080/"
        },
        "id": "Y8fAJKxfzOjK",
        "outputId": "589b451a-1321-417c-a69c-f6c4886f04f6"
      },
      "source": [
        "epochs = 3\n",
        "batch_size = 32\n",
        "\n",
        "# Fit the model using the train and test datasets.\n",
        "history = model2.fit(train_ds,\n",
        "          validation_data=valid_ds, \n",
        "          epochs=epochs, \n",
        "          batch_size=batch_size)"
      ],
      "execution_count": null,
      "outputs": [
        {
          "output_type": "stream",
          "text": [
            "Epoch 1/3\n",
            "6571/6571 [==============================] - 11s 2ms/step - loss: 0.9030 - accuracy: 0.6249 - val_loss: 0.7047 - val_accuracy: 0.6929\n",
            "Epoch 2/3\n",
            "6571/6571 [==============================] - 10s 2ms/step - loss: 0.6701 - accuracy: 0.7182 - val_loss: 0.6263 - val_accuracy: 0.7603\n",
            "Epoch 3/3\n",
            "6571/6571 [==============================] - 10s 2ms/step - loss: 0.5884 - accuracy: 0.7655 - val_loss: 0.5916 - val_accuracy: 0.7714\n"
          ],
          "name": "stdout"
        }
      ]
    },
    {
      "cell_type": "code",
      "metadata": {
        "colab": {
          "base_uri": "https://localhost:8080/",
          "height": 295
        },
        "id": "jTjeJVFgzvZq",
        "outputId": "47a262f4-78fe-40df-d0fb-916fce7e3e5f"
      },
      "source": [
        "plot_history(history)"
      ],
      "execution_count": null,
      "outputs": [
        {
          "output_type": "display_data",
          "data": {
            "image/png": "[encoded data removed]",
            "text/plain": [
              "<Figure size 432x288 with 1 Axes>"
            ]
          },
          "metadata": {
            "tags": [],
            "needs_background": "light"
          }
        }
      ]
    },
    {
      "cell_type": "code",
      "metadata": {
        "colab": {
          "base_uri": "https://localhost:8080/",
          "height": 180
        },
        "id": "C9ISmg2gyzBh",
        "outputId": "7303598d-d53c-43d5-e7ce-38be3b31561e"
      },
      "source": [
        "model2_test = model2.predict(test_ds)\n",
        "labels = np.asarray(tf.concat([y for x, y in test_ds], axis=0))\n",
        "model2_conf = confusion_matrix(\n",
        "        labels.argmax(axis=1),\n",
        "        model2_test.argmax(axis=1)\n",
        "    )\n",
        "print(\"Accuracy: \" + str(round((print_acc(model2_conf))*100,2)) + \"%\")\n",
        "print(\"Error: \" + str(round((1-print_acc(model2_conf))*100,2)) + \"%\")\n",
        "pd.DataFrame(\n",
        "    model2_conf,\n",
        "    index = [\"Neutral\", \"Positive\", \"Negative\"],\n",
        "    columns = [\"Neutral\", \"Positive\", \"Negative\"]\n",
        ")"
      ],
      "execution_count": null,
      "outputs": [
        {
          "output_type": "stream",
          "text": [
            "Accuracy: 78.37%\n",
            "Error: 21.63%\n"
          ],
          "name": "stdout"
        },
        {
          "output_type": "execute_result",
          "data": {
            "text/html": [
              "<div>\n",
              "<style scoped>\n",
              "    .dataframe tbody tr th:only-of-type {\n",
              "        vertical-align: middle;\n",
              "    }\n",
              "\n",
              "    .dataframe tbody tr th {\n",
              "        vertical-align: top;\n",
              "    }\n",
              "\n",
              "    .dataframe thead th {\n",
              "        text-align: right;\n",
              "    }\n",
              "</style>\n",
              "<table border=\"1\" class=\"dataframe\">\n",
              "  <thead>\n",
              "    <tr style=\"text-align: right;\">\n",
              "      <th></th>\n",
              "      <th>Neutral</th>\n",
              "      <th>Positive</th>\n",
              "      <th>Negative</th>\n",
              "    </tr>\n",
              "  </thead>\n",
              "  <tbody>\n",
              "    <tr>\n",
              "      <th>Neutral</th>\n",
              "      <td>2809</td>\n",
              "      <td>55</td>\n",
              "      <td>221</td>\n",
              "    </tr>\n",
              "    <tr>\n",
              "      <th>Positive</th>\n",
              "      <td>165</td>\n",
              "      <td>454</td>\n",
              "      <td>144</td>\n",
              "    </tr>\n",
              "    <tr>\n",
              "      <th>Negative</th>\n",
              "      <td>398</td>\n",
              "      <td>62</td>\n",
              "      <td>524</td>\n",
              "    </tr>\n",
              "  </tbody>\n",
              "</table>\n",
              "</div>"
            ],
            "text/plain": [
              "          Neutral  Positive  Negative\n",
              "Neutral      2809        55       221\n",
              "Positive      165       454       144\n",
              "Negative      398        62       524"
            ]
          },
          "metadata": {
            "tags": []
          },
          "execution_count": 86
        }
      ]
    },
    {
      "cell_type": "code",
      "metadata": {
        "colab": {
          "base_uri": "https://localhost:8080/"
        },
        "id": "OIY9Kebby-UV",
        "outputId": "72451179-d531-4e9d-91a9-52bac65996f3"
      },
      "source": [
        "print(classification_report(labels.argmax(axis=1),\n",
        "                            model2_test.argmax(axis=1),\n",
        "                            target_names=[\"Neutral\", \"Positive\", \"Negative\"]))"
      ],
      "execution_count": null,
      "outputs": [
        {
          "output_type": "stream",
          "text": [
            "              precision    recall  f1-score   support\n",
            "\n",
            "     Neutral       0.83      0.91      0.87      3085\n",
            "    Positive       0.80      0.60      0.68       763\n",
            "    Negative       0.59      0.53      0.56       984\n",
            "\n",
            "    accuracy                           0.78      4832\n",
            "   macro avg       0.74      0.68      0.70      4832\n",
            "weighted avg       0.78      0.78      0.78      4832\n",
            "\n"
          ],
          "name": "stdout"
        }
      ]
    },
    {
      "cell_type": "markdown",
      "metadata": {
        "id": "P6oz_FvCbWqz"
      },
      "source": [
        "### **Rationale:**\n",
        "As we see with the previous figures, **setting to '10' the embedding dimension resulted in worse accuracies**. If we compare the 'Accuracy' and the 'Val_Accuracy' during the training of the Neural Networks with '100' and '10' as embedding dimensions we can see the following:\n",
        "\n",
        "*   **In the 1st epoch**, we see that in both '100' and '10' embedding dimensions, there is still Underfitting, as the '**Val_Accuracy**' is greater than '**Accuracy**', which means that the model behaves better with unseen data than with the data it is being trained with.\n",
        "\n",
        "*   **In the 2nd epoch**, we see that things start to change. In the Neural Network with an embedding dimension of '100' the '**Accuracy**' and '**Val_Accuracy**' level off, which means that the Neural Network has tweaked the weights of all word vectors enough to be able to classify correctly both training data and unseen data. On the other hand, in the Neural Network with an embedding dimension of '10', the '**Val_Accuracy**' *(0.7603)* is still greater than the '**Accuracy**' *(0.7182)*, which entails that with just '10' weights for each word vector *(embedding dimension)* the Neural Network has not refined them enough to properly fit the training data, as just 10 weights per word means too few weights to do so with just 2 passes *(2 epochs)*.\n",
        "\n",
        "*   **In the final 3rd epoch**, if we refer to the Neural Network with '100' as embedding dimension, we clearly see how Overfitting starts to happen, as now the '**Accuracy**' becomes higher than the '**Val_Accuracy**'. On the other hand, if we refer to the Neural Network with '10' as embedding dimension, we see that we finally achieve a relative balance between '**Accuracy**' and '**Val_Accuracy**'. It is clearly visible in the plot, where only at the end of the 2nd epoch the '**Accuracy**' surpasses the '**Val_Accuracy**'. This means that we have refined enough the 10 weights per word to start to fit the data in a proper way, generalizing equally well at this point.\n",
        "\n",
        "The rationale provided here might be applied to the 'Loss' and 'Val_Loss' functions the Neural Network is tried to minimize, although obviously in the opposite way *(being lower values of 'Loss' with regard to 'Val_Loss' values possible Overfitting)*.\n",
        "\n",
        "Consequently, since both Neural Networks have been trained with all same parameters except the embedding dimension, **we can draw the conclusion that the lower the embedding dimension, the more difficult it will be to perfectly fit the training data** *(and therefore avoiding Overfitting)* **but, at the same time, the more difficult it yould be for such a small value of embedding dimension to tackle more complex data and be able to generalize well**.\n",
        "\n",
        "So, higher values of embedding dimension lead to fit the training data more quickly, as the complexity that such a Neural Network is able to deal with is high. Thus, having many weights to tweak in each batch size will lead to quickly adjust them to fit the data, as the Neural Network will have more values to 'tweak' to this end. Therefore, a relatively easy dataset to train the Neural Network with and predict based on it, will easily yield Overfitting in the initial epochs, as the Neural Network has many weights to adjust and tackle the data.\n",
        "\n",
        "As it was aforementioned above, he opposite conclusion might be drawn as well. That is, **the lower the value of the embedding dimension, the more difficult it would be for the Neural Network to tackle very complex datasets**, since it will have too few weights to adjust in order to fit the data, so that the Neural Network will get bad performance in both training and test datasets (bad generalization error).\n",
        "\n",
        "As a final aspect to point out, we can see that **the present dataset is not so complex to yield high differences between a Neural Network of '100' and '10' embedding dimensions (given the 3 stated epochs)**. We see that the former gets 78.79% as Test Accuracy, whereas the latter gets 78.37% as Test Accuracy with the same number of epochs and batch size. With just 2 epochs the differences would have been higher, as the Neural Network with just '10' weights per word vector as embedding dimension would not have refined enough its smaller number of weights to tweak in order to properly fit the data.\n",
        "\n",
        "Finally, as to the **Confusion Matrix** and **Classification Report** of the Neural Network with '10' as embedding dimension, we can see that with the data we got in the stated partitions in train, validation and test, the 'Negative' tweets are the ones that entail more difficulty to predict overall, as they got the lowest F1-Score with more support than the 'Positive' tweets, for instance. Additionally, we can outline that the 'Neutral' tweets are pretty difficult to predict as well, since they hold the highest support *(more than 3 times more observations than the 2 other classes individually)*, but its F1-Score is not as high as one would expect given the number of observations the Neural Network has been trained with, especially if we refer to the Precision, which is very similar to the 'Positive' tweets.\n",
        "\n",
        "\n",
        "\n"
      ]
    },
    {
      "cell_type": "markdown",
      "metadata": {
        "id": "O6mNDTlppIWB"
      },
      "source": [
        "# **2. Adding a new dense layer to the model before the prediction.**"
      ]
    },
    {
      "cell_type": "code",
      "metadata": {
        "colab": {
          "base_uri": "https://localhost:8080/"
        },
        "id": "9ULEpoZdpPa6",
        "outputId": "10655330-6712-46ad-91f9-4578244010db"
      },
      "source": [
        "embedding_dim = 100\n",
        "\n",
        "\n",
        "\n",
        "# Text input\n",
        "inputs = tf.keras.Input(shape=(None,), dtype=\"int64\")\n",
        "\n",
        "# Next, we add a layer to map those vocab indices into a space of dimensionality\n",
        "# 'embedding_dim'.\n",
        "x = layers.Embedding(max_features, embedding_dim)(inputs)\n",
        "print(\"Embedding: \", x)\n",
        "x = mean(x,axis=1)\n",
        "print(\"Mean: \", x)\n",
        "\n",
        "x = layers.Dropout(0.3)(x)\n",
        "\n",
        "# We add an additional Dense Layer:\n",
        "x = layers.Dense(50, activation=\"tanh\")(x)\n",
        "\n",
        "# We project onto a single unit output layer:\n",
        "predictions = layers.Dense(n_labels, activation=\"softmax\", name=\"predictions\")(x)\n",
        "\n",
        "model3 = tf.keras.Model(inputs, predictions)\n",
        "\n",
        "# Compile the model with crossentropy loss and an adam optimizer.\n",
        "opt = Adam(learning_rate=0.001)\n",
        "model3.compile(loss=\"categorical_crossentropy\", optimizer=opt, metrics=[\"accuracy\"])"
      ],
      "execution_count": null,
      "outputs": [
        {
          "output_type": "stream",
          "text": [
            "Embedding:  KerasTensor(type_spec=TensorSpec(shape=(None, None, 100), dtype=tf.float32, name=None), name='embedding_15/embedding_lookup/Identity_1:0', description=\"created by layer 'embedding_15'\")\n",
            "Mean:  KerasTensor(type_spec=TensorSpec(shape=(None, 100), dtype=tf.float32, name=None), name='tf.math.reduce_mean_15/Mean:0', description=\"created by layer 'tf.math.reduce_mean_15'\")\n"
          ],
          "name": "stdout"
        }
      ]
    },
    {
      "cell_type": "code",
      "metadata": {
        "colab": {
          "base_uri": "https://localhost:8080/"
        },
        "id": "Zf7S-ZSBp_Qq",
        "outputId": "22bcae15-b18e-4d67-ca90-76d11fea2ab9"
      },
      "source": [
        "epochs = 3\n",
        "batch_size = 32\n",
        "\n",
        "# Fit the model using the train and test datasets.\n",
        "history2 = model3.fit(train_ds,\n",
        "          validation_data=valid_ds, \n",
        "          epochs=epochs, \n",
        "          batch_size=batch_size)"
      ],
      "execution_count": null,
      "outputs": [
        {
          "output_type": "stream",
          "text": [
            "Epoch 1/3\n",
            "6571/6571 [==============================] - 24s 4ms/step - loss: 0.7555 - accuracy: 0.6810 - val_loss: 0.5664 - val_accuracy: 0.7773\n",
            "Epoch 2/3\n",
            "6571/6571 [==============================] - 24s 4ms/step - loss: 0.5189 - accuracy: 0.7885 - val_loss: 0.5772 - val_accuracy: 0.7757\n",
            "Epoch 3/3\n",
            "6571/6571 [==============================] - 24s 4ms/step - loss: 0.4631 - accuracy: 0.8123 - val_loss: 0.6024 - val_accuracy: 0.7717\n"
          ],
          "name": "stdout"
        }
      ]
    },
    {
      "cell_type": "code",
      "metadata": {
        "colab": {
          "base_uri": "https://localhost:8080/",
          "height": 295
        },
        "id": "6dNfE2DLqGf5",
        "outputId": "325ab740-c7b6-4f81-d78b-ba557a5b9289"
      },
      "source": [
        "plot_history(history2)"
      ],
      "execution_count": null,
      "outputs": [
        {
          "output_type": "display_data",
          "data": {
            "image/png": "[encoded data removed]",
            "text/plain": [
              "<Figure size 432x288 with 1 Axes>"
            ]
          },
          "metadata": {
            "tags": [],
            "needs_background": "light"
          }
        }
      ]
    },
    {
      "cell_type": "code",
      "metadata": {
        "colab": {
          "base_uri": "https://localhost:8080/",
          "height": 180
        },
        "id": "Lh3FnqDtqJ__",
        "outputId": "ef5a63c2-ca97-4840-f421-32dc2e669c48"
      },
      "source": [
        "model3_test = model3.predict(test_ds)\n",
        "labels = np.asarray(tf.concat([y for x, y in test_ds], axis=0))\n",
        "model3_conf = confusion_matrix(\n",
        "        labels.argmax(axis=1),\n",
        "        model3_test.argmax(axis=1)\n",
        "    )\n",
        "print(\"Accuracy: \" + str(round((print_acc(model3_conf))*100,2)) + \"%\")\n",
        "print(\"Error: \" + str(round((1-print_acc(model3_conf))*100,2)) + \"%\")\n",
        "pd.DataFrame(\n",
        "    model3_conf,\n",
        "    index = [\"Neutral\", \"Positive\", \"Negative\"],\n",
        "    columns = [\"Neutral\", \"Positive\", \"Negative\"]\n",
        ")"
      ],
      "execution_count": null,
      "outputs": [
        {
          "output_type": "stream",
          "text": [
            "Accuracy: 78.04%\n",
            "Error: 21.96%\n"
          ],
          "name": "stdout"
        },
        {
          "output_type": "execute_result",
          "data": {
            "text/html": [
              "<div>\n",
              "<style scoped>\n",
              "    .dataframe tbody tr th:only-of-type {\n",
              "        vertical-align: middle;\n",
              "    }\n",
              "\n",
              "    .dataframe tbody tr th {\n",
              "        vertical-align: top;\n",
              "    }\n",
              "\n",
              "    .dataframe thead th {\n",
              "        text-align: right;\n",
              "    }\n",
              "</style>\n",
              "<table border=\"1\" class=\"dataframe\">\n",
              "  <thead>\n",
              "    <tr style=\"text-align: right;\">\n",
              "      <th></th>\n",
              "      <th>Neutral</th>\n",
              "      <th>Positive</th>\n",
              "      <th>Negative</th>\n",
              "    </tr>\n",
              "  </thead>\n",
              "  <tbody>\n",
              "    <tr>\n",
              "      <th>Neutral</th>\n",
              "      <td>2780</td>\n",
              "      <td>72</td>\n",
              "      <td>233</td>\n",
              "    </tr>\n",
              "    <tr>\n",
              "      <th>Positive</th>\n",
              "      <td>189</td>\n",
              "      <td>496</td>\n",
              "      <td>78</td>\n",
              "    </tr>\n",
              "    <tr>\n",
              "      <th>Negative</th>\n",
              "      <td>414</td>\n",
              "      <td>75</td>\n",
              "      <td>495</td>\n",
              "    </tr>\n",
              "  </tbody>\n",
              "</table>\n",
              "</div>"
            ],
            "text/plain": [
              "          Neutral  Positive  Negative\n",
              "Neutral      2780        72       233\n",
              "Positive      189       496        78\n",
              "Negative      414        75       495"
            ]
          },
          "metadata": {
            "tags": []
          },
          "execution_count": 119
        }
      ]
    },
    {
      "cell_type": "code",
      "metadata": {
        "colab": {
          "base_uri": "https://localhost:8080/"
        },
        "id": "wt0yjl-MqM2G",
        "outputId": "6cd232a3-93f0-4346-e04d-783569f60cf0"
      },
      "source": [
        "print(classification_report(labels.argmax(axis=1),\n",
        "                            model3_test.argmax(axis=1),\n",
        "                            target_names=[\"Neutral\", \"Positive\", \"Negative\"]))"
      ],
      "execution_count": null,
      "outputs": [
        {
          "output_type": "stream",
          "text": [
            "              precision    recall  f1-score   support\n",
            "\n",
            "     Neutral       0.82      0.90      0.86      3085\n",
            "    Positive       0.77      0.65      0.71       763\n",
            "    Negative       0.61      0.50      0.55       984\n",
            "\n",
            "    accuracy                           0.78      4832\n",
            "   macro avg       0.74      0.68      0.71      4832\n",
            "weighted avg       0.77      0.78      0.77      4832\n",
            "\n"
          ],
          "name": "stdout"
        }
      ]
    },
    {
      "cell_type": "markdown",
      "metadata": {
        "id": "z4MBFzX7vXUI"
      },
      "source": [
        "### **Rationale:**\n",
        "As shown by the previous results, **adding a new Dense Layer with 50 neurons and the Hyperbolic Tangent as Activation Function** *(which tends to be the most precise one, although very expensive in terms of its partial derivative when performing the Back-Propagation)* **before the final Output Layer with the Softmax didn't improve the results, quite the opposite, getting 78.04% as Global Accuracy** of the model with Test Data. In this regard, in order to be able to compare, we kept the embedding dimension in '100', as stated in our initial model, and we stated same batch size and same number of observations.\n",
        "\n",
        "The main rationale underneath these results stems from the fact that **a new Dense Layer that process the output of our 'Summary Vector'** *(the Mean, in our case)* **is actually distorting the representation of the sentence that such a Summary Vector represents**, thereby making for the final output Dense Layer more difficult to discern just with this vector which class to predict.\n",
        "\n",
        "In fact, we tested with 2 Dense Layers as well with 50 neurons each, instead of just 1, and the final metrics resulted even worse *(Global Accuracy of 76.80%)*. In this last case, another reason of such a poor performance would be because adding more Dense Layers entails more weights to estimate and tweak with the same amount of data, which ends up being a very complex model that is not able to properly fit the relatively small amoung of data it has available to be trained with *(perhaps adding more epochs would help, though)*.\n",
        "\n",
        "Overall, we see in the plot that the 'Val_Accuracy' is almost flat, meaning that the generalization capability of the model remains the same, irrespective of the value of the 'Accuracy' with the Training Data. Indeed, it is likely the result of getting distorted Summary Vectors to predict, which hinders the identification of characteristics that lead to improvements in the classification and the resulting generalization error."
      ]
    },
    {
      "cell_type": "markdown",
      "metadata": {
        "id": "UGUD_OIH1jos"
      },
      "source": [
        "# **3. How does Dropout technique would affect the present Neural Network?**"
      ]
    },
    {
      "cell_type": "markdown",
      "metadata": {
        "id": "qFGIBxyqC1zS"
      },
      "source": [
        "In order to see the effect that the 'Dropout' layer has in a Neural Network, let's recompute the initial Neural Network architecture removing from it the Dropout Layer that was initially used in such an architecture:"
      ]
    },
    {
      "cell_type": "markdown",
      "metadata": {
        "id": "4NjRowb6HBTk"
      },
      "source": [
        "## **Initial Neural Network Architecture with No Dropout Layer**"
      ]
    },
    {
      "cell_type": "code",
      "metadata": {
        "colab": {
          "base_uri": "https://localhost:8080/"
        },
        "id": "96LvZQRm2hBm",
        "outputId": "cf551708-2ebe-4b8f-de17-24bef42f1f28"
      },
      "source": [
        "embedding_dim = 100\n",
        "\n",
        "\n",
        "# Text input\n",
        "inputs = tf.keras.Input(shape=(None,), dtype=\"int64\")\n",
        "\n",
        "# Next, we add a layer to map those vocab indices into a space of dimensionality\n",
        "# 'embedding_dim'.\n",
        "x = layers.Embedding(max_features, embedding_dim)(inputs)\n",
        "print(\"Embedding: \", x)\n",
        "x = mean(x,axis=1)\n",
        "print(\"Mean: \", x)\n",
        "\n",
        "# We project onto a single unit output layer:\n",
        "predictions = layers.Dense(n_labels, activation=\"softmax\", name=\"predictions\")(x)\n",
        "\n",
        "model4 = tf.keras.Model(inputs, predictions)\n",
        "\n",
        "# Compile the model with crossentropy loss and an adam optimizer.\n",
        "opt = Adam(learning_rate=0.001)\n",
        "model4.compile(loss=\"categorical_crossentropy\", optimizer=opt, metrics=[\"accuracy\"])"
      ],
      "execution_count": null,
      "outputs": [
        {
          "output_type": "stream",
          "text": [
            "Embedding:  KerasTensor(type_spec=TensorSpec(shape=(None, None, 100), dtype=tf.float32, name=None), name='embedding_16/embedding_lookup/Identity_1:0', description=\"created by layer 'embedding_16'\")\n",
            "Mean:  KerasTensor(type_spec=TensorSpec(shape=(None, 100), dtype=tf.float32, name=None), name='tf.math.reduce_mean_16/Mean:0', description=\"created by layer 'tf.math.reduce_mean_16'\")\n"
          ],
          "name": "stdout"
        }
      ]
    },
    {
      "cell_type": "code",
      "metadata": {
        "colab": {
          "base_uri": "https://localhost:8080/"
        },
        "id": "AUH1fYRFAUcI",
        "outputId": "600ed1bc-4c5b-4af9-ad58-33e6fca9dd39"
      },
      "source": [
        "epochs = 9\n",
        "batch_size = 32\n",
        "\n",
        "# Fit the model using the train and test datasets.\n",
        "history3 = model4.fit(train_ds,\n",
        "          validation_data=valid_ds, \n",
        "          epochs=epochs, \n",
        "          batch_size=batch_size)"
      ],
      "execution_count": null,
      "outputs": [
        {
          "output_type": "stream",
          "text": [
            "Epoch 1/9\n",
            "6571/6571 [==============================] - 23s 4ms/step - loss: 0.3423 - accuracy: 0.8641 - val_loss: 0.6786 - val_accuracy: 0.7658\n",
            "Epoch 2/9\n",
            "6571/6571 [==============================] - 24s 4ms/step - loss: 0.3274 - accuracy: 0.8694 - val_loss: 0.7093 - val_accuracy: 0.7618\n",
            "Epoch 3/9\n",
            "6571/6571 [==============================] - 24s 4ms/step - loss: 0.3151 - accuracy: 0.8763 - val_loss: 0.7389 - val_accuracy: 0.7624\n",
            "Epoch 4/9\n",
            "6571/6571 [==============================] - 24s 4ms/step - loss: 0.3047 - accuracy: 0.8814 - val_loss: 0.7673 - val_accuracy: 0.7624\n",
            "Epoch 5/9\n",
            "6571/6571 [==============================] - 24s 4ms/step - loss: 0.2958 - accuracy: 0.8856 - val_loss: 0.7946 - val_accuracy: 0.7631\n",
            "Epoch 6/9\n",
            "6571/6571 [==============================] - 23s 4ms/step - loss: 0.2881 - accuracy: 0.8907 - val_loss: 0.8208 - val_accuracy: 0.7609\n",
            "Epoch 7/9\n",
            "6571/6571 [==============================] - 24s 4ms/step - loss: 0.2813 - accuracy: 0.8932 - val_loss: 0.8462 - val_accuracy: 0.7578\n",
            "Epoch 8/9\n",
            "6571/6571 [==============================] - 24s 4ms/step - loss: 0.2752 - accuracy: 0.8954 - val_loss: 0.8706 - val_accuracy: 0.7559\n",
            "Epoch 9/9\n",
            "6571/6571 [==============================] - 24s 4ms/step - loss: 0.2697 - accuracy: 0.8974 - val_loss: 0.8944 - val_accuracy: 0.7529\n"
          ],
          "name": "stdout"
        }
      ]
    },
    {
      "cell_type": "code",
      "metadata": {
        "colab": {
          "base_uri": "https://localhost:8080/",
          "height": 295
        },
        "id": "zD0wdjowAYQU",
        "outputId": "d06ddb45-0856-4246-84a9-37ff3762b317"
      },
      "source": [
        "plot_history(history3)"
      ],
      "execution_count": null,
      "outputs": [
        {
          "output_type": "display_data",
          "data": {
            "image/png": "[encoded data removed]",
            "text/plain": [
              "<Figure size 432x288 with 1 Axes>"
            ]
          },
          "metadata": {
            "tags": [],
            "needs_background": "light"
          }
        }
      ]
    },
    {
      "cell_type": "code",
      "metadata": {
        "colab": {
          "base_uri": "https://localhost:8080/",
          "height": 180
        },
        "id": "XXQ9SH9-AgeY",
        "outputId": "70ff2caf-1de5-4943-c9e9-59b362745964"
      },
      "source": [
        "model4_test = model4.predict(test_ds)\n",
        "labels = np.asarray(tf.concat([y for x, y in test_ds], axis=0))\n",
        "model4_conf = confusion_matrix(\n",
        "        labels.argmax(axis=1),\n",
        "        model4_test.argmax(axis=1)\n",
        "    )\n",
        "print(\"Accuracy: \" + str(round((print_acc(model4_conf))*100,2)) + \"%\")\n",
        "print(\"Error: \" + str(round((1-print_acc(model4_conf))*100,2)) + \"%\")\n",
        "pd.DataFrame(\n",
        "    model4_conf,\n",
        "    index = [\"Neutral\", \"Positive\", \"Negative\"],\n",
        "    columns = [\"Neutral\", \"Positive\", \"Negative\"]\n",
        ")"
      ],
      "execution_count": null,
      "outputs": [
        {
          "output_type": "stream",
          "text": [
            "Accuracy: 75.89%\n",
            "Error: 24.11%\n"
          ],
          "name": "stdout"
        },
        {
          "output_type": "execute_result",
          "data": {
            "text/html": [
              "<div>\n",
              "<style scoped>\n",
              "    .dataframe tbody tr th:only-of-type {\n",
              "        vertical-align: middle;\n",
              "    }\n",
              "\n",
              "    .dataframe tbody tr th {\n",
              "        vertical-align: top;\n",
              "    }\n",
              "\n",
              "    .dataframe thead th {\n",
              "        text-align: right;\n",
              "    }\n",
              "</style>\n",
              "<table border=\"1\" class=\"dataframe\">\n",
              "  <thead>\n",
              "    <tr style=\"text-align: right;\">\n",
              "      <th></th>\n",
              "      <th>Neutral</th>\n",
              "      <th>Positive</th>\n",
              "      <th>Negative</th>\n",
              "    </tr>\n",
              "  </thead>\n",
              "  <tbody>\n",
              "    <tr>\n",
              "      <th>Neutral</th>\n",
              "      <td>2679</td>\n",
              "      <td>108</td>\n",
              "      <td>298</td>\n",
              "    </tr>\n",
              "    <tr>\n",
              "      <th>Positive</th>\n",
              "      <td>179</td>\n",
              "      <td>476</td>\n",
              "      <td>108</td>\n",
              "    </tr>\n",
              "    <tr>\n",
              "      <th>Negative</th>\n",
              "      <td>374</td>\n",
              "      <td>98</td>\n",
              "      <td>512</td>\n",
              "    </tr>\n",
              "  </tbody>\n",
              "</table>\n",
              "</div>"
            ],
            "text/plain": [
              "          Neutral  Positive  Negative\n",
              "Neutral      2679       108       298\n",
              "Positive      179       476       108\n",
              "Negative      374        98       512"
            ]
          },
          "metadata": {
            "tags": []
          },
          "execution_count": 128
        }
      ]
    },
    {
      "cell_type": "code",
      "metadata": {
        "colab": {
          "base_uri": "https://localhost:8080/"
        },
        "id": "hPmcnMppA8wF",
        "outputId": "1d9b8b39-dd44-43cc-ba3f-74f0bfc9485b"
      },
      "source": [
        "print(classification_report(labels.argmax(axis=1),\n",
        "                            model4_test.argmax(axis=1),\n",
        "                            target_names=[\"Neutral\", \"Positive\", \"Negative\"]))"
      ],
      "execution_count": null,
      "outputs": [
        {
          "output_type": "stream",
          "text": [
            "              precision    recall  f1-score   support\n",
            "\n",
            "     Neutral       0.83      0.87      0.85      3085\n",
            "    Positive       0.70      0.62      0.66       763\n",
            "    Negative       0.56      0.52      0.54       984\n",
            "\n",
            "    accuracy                           0.76      4832\n",
            "   macro avg       0.69      0.67      0.68      4832\n",
            "weighted avg       0.75      0.76      0.76      4832\n",
            "\n"
          ],
          "name": "stdout"
        }
      ]
    },
    {
      "cell_type": "markdown",
      "metadata": {
        "id": "C2XdtLJtDbOG"
      },
      "source": [
        "**Indeed, we get much worse results when generalizing, with a Global Accuracy with the Test Data of 75.89%**. We needed to increase the number of 'epochs' for the model to see that *(we set them at '9', being 3 times the previous epochs)*, since the Neural Network architecture is not so complex with regard to the data it is dealing with, which means that it needs more epochs to fit better the data and make evident the Overfitting setting.\n",
        "\n",
        "As we see in the plot and in the 'Accuracy' and 'Val_Accuracy' values from each epoch of the training, **already in the very first epoch the value of the 'Accuracy' (86.41%) becomes higher than the 'Val_Accuracy' (76.58%)**. Such a difference becomes higher as we get to the rest of the epochs. That is, **the model is starting to fit better and better the training dataset and starting to learn not just the Regular Structure of the data** *(which would allow the model to generalize equally well)*, **but also the noise or non-regular structure within the data and the specific characteristics that shape the training data**, which might not be present in the test data and, therefore, the 'Val_Accuracy' and the corresponding Global Accuracy with the test data become worse.\n",
        "\n",
        "Now, we can see how different values of Dropout affect the results. We already saw a value of '0.3' of Dropout in the initial Neural Network architecture and the Global Accuracy we got with test data. Let's now see how a different value might change the resulting metrics of the model:"
      ]
    },
    {
      "cell_type": "markdown",
      "metadata": {
        "id": "RU-GUbZFHOuf"
      },
      "source": [
        "## **Initial Neural Network Architecture with Dropout Layer (with higher value and reposition)**"
      ]
    },
    {
      "cell_type": "code",
      "metadata": {
        "colab": {
          "base_uri": "https://localhost:8080/"
        },
        "id": "14eQUs_DCXE3",
        "outputId": "d272ed4d-b72c-468c-98fe-3265b794a4fe"
      },
      "source": [
        "embedding_dim = 100\n",
        "\n",
        "\n",
        "# Text input\n",
        "inputs = tf.keras.Input(shape=(None,), dtype=\"int64\")\n",
        "\n",
        "# Next, we add a layer to map those vocab indices into a space of dimensionality\n",
        "# 'embedding_dim'.\n",
        "x = layers.Embedding(max_features, embedding_dim)(inputs)\n",
        "print(\"Embedding: \", x)\n",
        "\n",
        "x = layers.Dropout(0.8)(x)\n",
        "\n",
        "x = mean(x,axis=1)\n",
        "print(\"Mean: \", x)\n",
        "\n",
        "\n",
        "# We project onto a single unit output layer:\n",
        "predictions = layers.Dense(n_labels, activation=\"softmax\", name=\"predictions\")(x)\n",
        "\n",
        "model5 = tf.keras.Model(inputs, predictions)\n",
        "\n",
        "# Compile the model with crossentropy loss and an adam optimizer.\n",
        "opt = Adam(learning_rate=0.001)\n",
        "model5.compile(loss=\"categorical_crossentropy\", optimizer=opt, metrics=[\"accuracy\"])"
      ],
      "execution_count": null,
      "outputs": [
        {
          "output_type": "stream",
          "text": [
            "Embedding:  KerasTensor(type_spec=TensorSpec(shape=(None, None, 100), dtype=tf.float32, name=None), name='embedding_26/embedding_lookup/Identity_1:0', description=\"created by layer 'embedding_26'\")\n",
            "Mean:  KerasTensor(type_spec=TensorSpec(shape=(None, 100), dtype=tf.float32, name=None), name='tf.math.reduce_mean_26/Mean:0', description=\"created by layer 'tf.math.reduce_mean_26'\")\n"
          ],
          "name": "stdout"
        }
      ]
    },
    {
      "cell_type": "code",
      "metadata": {
        "colab": {
          "base_uri": "https://localhost:8080/"
        },
        "id": "RVtx253_Hmdm",
        "outputId": "aad9ff39-0a61-488f-8894-c9b7398e44dc"
      },
      "source": [
        "epochs = 6\n",
        "batch_size = 32\n",
        "\n",
        "# Fit the model using the train and test datasets.\n",
        "history4 = model5.fit(train_ds,\n",
        "          validation_data=valid_ds, \n",
        "          epochs=epochs, \n",
        "          batch_size=batch_size)"
      ],
      "execution_count": null,
      "outputs": [
        {
          "output_type": "stream",
          "text": [
            "Epoch 1/6\n",
            "6571/6571 [==============================] - 24s 4ms/step - loss: 0.8637 - accuracy: 0.6338 - val_loss: 0.6613 - val_accuracy: 0.7328\n",
            "Epoch 2/6\n",
            "6571/6571 [==============================] - 23s 3ms/step - loss: 0.6336 - accuracy: 0.7350 - val_loss: 0.5957 - val_accuracy: 0.7643\n",
            "Epoch 3/6\n",
            "6571/6571 [==============================] - 23s 4ms/step - loss: 0.5754 - accuracy: 0.7586 - val_loss: 0.5737 - val_accuracy: 0.7723\n",
            "Epoch 4/6\n",
            "6571/6571 [==============================] - 23s 4ms/step - loss: 0.5362 - accuracy: 0.7818 - val_loss: 0.5658 - val_accuracy: 0.7717\n",
            "Epoch 5/6\n",
            "6571/6571 [==============================] - 23s 4ms/step - loss: 0.5116 - accuracy: 0.7962 - val_loss: 0.5622 - val_accuracy: 0.7736\n",
            "Epoch 6/6\n",
            "6571/6571 [==============================] - 23s 4ms/step - loss: 0.4897 - accuracy: 0.7990 - val_loss: 0.5597 - val_accuracy: 0.7785\n"
          ],
          "name": "stdout"
        }
      ]
    },
    {
      "cell_type": "code",
      "metadata": {
        "colab": {
          "base_uri": "https://localhost:8080/",
          "height": 295
        },
        "id": "BA72ZkffHym1",
        "outputId": "65f52ad4-ebc3-4bef-8bea-bc963f49ed28"
      },
      "source": [
        "plot_history(history4)"
      ],
      "execution_count": null,
      "outputs": [
        {
          "output_type": "display_data",
          "data": {
            "image/png": "[encoded data removed]",
            "text/plain": [
              "<Figure size 432x288 with 1 Axes>"
            ]
          },
          "metadata": {
            "tags": [],
            "needs_background": "light"
          }
        }
      ]
    },
    {
      "cell_type": "code",
      "metadata": {
        "colab": {
          "base_uri": "https://localhost:8080/",
          "height": 180
        },
        "id": "AHotDsY4H6Ev",
        "outputId": "31840646-3e66-4d07-f331-4b60acb51b76"
      },
      "source": [
        "model5_test = model5.predict(test_ds)\n",
        "labels = np.asarray(tf.concat([y for x, y in test_ds], axis=0))\n",
        "model5_conf = confusion_matrix(\n",
        "        labels.argmax(axis=1),\n",
        "        model5_test.argmax(axis=1)\n",
        "    )\n",
        "print(\"Accuracy: \" + str(round((print_acc(model5_conf))*100,2)) + \"%\")\n",
        "print(\"Error: \" + str(round((1-print_acc(model5_conf))*100,2)) + \"%\")\n",
        "pd.DataFrame(\n",
        "    model5_conf,\n",
        "    index = [\"Neutral\", \"Positive\", \"Negative\"],\n",
        "    columns = [\"Neutral\", \"Positive\", \"Negative\"]\n",
        ")"
      ],
      "execution_count": null,
      "outputs": [
        {
          "output_type": "stream",
          "text": [
            "Accuracy: 79.41%\n",
            "Error: 20.59%\n"
          ],
          "name": "stdout"
        },
        {
          "output_type": "execute_result",
          "data": {
            "text/html": [
              "<div>\n",
              "<style scoped>\n",
              "    .dataframe tbody tr th:only-of-type {\n",
              "        vertical-align: middle;\n",
              "    }\n",
              "\n",
              "    .dataframe tbody tr th {\n",
              "        vertical-align: top;\n",
              "    }\n",
              "\n",
              "    .dataframe thead th {\n",
              "        text-align: right;\n",
              "    }\n",
              "</style>\n",
              "<table border=\"1\" class=\"dataframe\">\n",
              "  <thead>\n",
              "    <tr style=\"text-align: right;\">\n",
              "      <th></th>\n",
              "      <th>Neutral</th>\n",
              "      <th>Positive</th>\n",
              "      <th>Negative</th>\n",
              "    </tr>\n",
              "  </thead>\n",
              "  <tbody>\n",
              "    <tr>\n",
              "      <th>Neutral</th>\n",
              "      <td>2762</td>\n",
              "      <td>78</td>\n",
              "      <td>245</td>\n",
              "    </tr>\n",
              "    <tr>\n",
              "      <th>Positive</th>\n",
              "      <td>157</td>\n",
              "      <td>503</td>\n",
              "      <td>103</td>\n",
              "    </tr>\n",
              "    <tr>\n",
              "      <th>Negative</th>\n",
              "      <td>354</td>\n",
              "      <td>58</td>\n",
              "      <td>572</td>\n",
              "    </tr>\n",
              "  </tbody>\n",
              "</table>\n",
              "</div>"
            ],
            "text/plain": [
              "          Neutral  Positive  Negative\n",
              "Neutral      2762        78       245\n",
              "Positive      157       503       103\n",
              "Negative      354        58       572"
            ]
          },
          "metadata": {
            "tags": []
          },
          "execution_count": 170
        }
      ]
    },
    {
      "cell_type": "code",
      "metadata": {
        "colab": {
          "base_uri": "https://localhost:8080/"
        },
        "id": "W0N_PbwsH9Xf",
        "outputId": "36ab9824-e03b-45ec-98a4-a451fe56f1df"
      },
      "source": [
        "print(classification_report(labels.argmax(axis=1),\n",
        "                            model5_test.argmax(axis=1),\n",
        "                            target_names=[\"Neutral\", \"Positive\", \"Negative\"]))"
      ],
      "execution_count": null,
      "outputs": [
        {
          "output_type": "stream",
          "text": [
            "              precision    recall  f1-score   support\n",
            "\n",
            "     Neutral       0.84      0.90      0.87      3085\n",
            "    Positive       0.79      0.66      0.72       763\n",
            "    Negative       0.62      0.58      0.60       984\n",
            "\n",
            "    accuracy                           0.79      4832\n",
            "   macro avg       0.75      0.71      0.73      4832\n",
            "weighted avg       0.79      0.79      0.79      4832\n",
            "\n"
          ],
          "name": "stdout"
        }
      ]
    },
    {
      "cell_type": "markdown",
      "metadata": {
        "id": "1yv9SJ6mOOQ7"
      },
      "source": [
        "### **Rationale:**\n",
        "As shown by the previous results, we performed 2 changes in the initial Neural Network architecture:\n",
        "\n",
        "1.   **We moved the Dropout Layer before the construction of the 'Summary Vector' through the Mean.**\n",
        "\n",
        "2.   **We increased its Dropout value from the Dropout Layer up to '0.8'.**\n",
        "\n",
        "In order to see the effects of such changes, mainly the increase in the dropout value, we set the 'epochs' to '6', since because we are setting to '0' some values of the vectors such a layer receives as input, the Neural Network will need more epochs to properly fit the data.\n",
        "\n",
        "**The position of the Dropout Layer in this case makes more sense**, from a conceptual point of view, and becomes coherent from what we stated earlier on when adding Dense Layers in between the 'Summary Vector' and the final Dense Layer with the Softmax Activation Function for classification. That is, by placing the Dropout Layer like in the previous architecture we are not 'distorting' the resulting Summary Vector of the Means of all positions with regard to the embedding dimensions. Instead, we are setting to '0' some words within the sentences that the Neural Network receives as input, which adds some variations in the raw sentences that end up benefitting the Neural Network.\n",
        "\n",
        "Additionally, **the increase in the Dropout value** entails that more words and their vector values will be set to '0' when passed to the 'Mean' to perform the 'Summary Vector', thereby **making the resulting sentences or tweets more diverse and miscellaneous.**\n",
        "\n",
        "**Both changes applied together yielded the best Global Accuracy with test data we got so far (79.41%)**. The main rationale underneath the previous figures is that we added so many variations and randomness to the training data made of tweets and their corresponding word vectors, that we didn't let the Neural Network fit the data so well, thereby avoiding the learning of the 'noise' or 'non-regular' structure by the Neural Network and its corresponding weight estimates, and only learning the patterns that comprised the actual Regular Structure of the data.\n",
        "\n",
        "**Consequently, we can see that the 'Val_Accuracy' values, even with 6 epochs, are still increasing after each epoch** *(we already see this in the plot)*. So, we are not overfitting the data since, although there are differences between the 'Accuracy' with the training data and the 'Val_Accuracy', the latter keeps increasing epoch after epoch, which means that the Neural Network generalize better as we iterate over the data, since the higher Dropout rate enables the Neural Network to steadily retain the actual Regular Structure that will help it generalize better with test data later on, as it happened.\n"
      ]
    },
    {
      "cell_type": "markdown",
      "metadata": {
        "id": "lkJCioQeWl_C"
      },
      "source": [
        "# **4. Trying to improve the results by means of a RNN.**"
      ]
    },
    {
      "cell_type": "code",
      "metadata": {
        "colab": {
          "base_uri": "https://localhost:8080/"
        },
        "id": "ddmMJtTZWP65",
        "outputId": "9fd666e7-571d-4628-f0ed-60b905af98a1"
      },
      "source": [
        "from tensorflow.keras import layers\n",
        "from tensorflow.keras.backend import mean\n",
        "from tensorflow.keras.optimizers import Adam\n",
        "\n",
        "embedding_dim = 70\n",
        "\n",
        "\n",
        "# Text input\n",
        "inputs = tf.keras.Input(shape=(None,), dtype=\"int64\")\n",
        "\n",
        "# Next, we add a layer to map those vocab indices into a space of dimensionality\n",
        "# 'embedding_dim'.\n",
        "x = layers.Embedding(max_features, embedding_dim)(inputs)\n",
        "print(\"Embedding: \", x)\n",
        "\n",
        "x = layers.Dropout(0.85)(x)\n",
        "\n",
        "lstm = tf.keras.layers.LSTM(embedding_dim)\n",
        "x = lstm(x)\n",
        "\n",
        "\n",
        "# We project onto a single unit output layer:\n",
        "predictions = layers.Dense(n_labels, activation=\"softmax\", name=\"predictions\")(x)\n",
        "\n",
        "model6 = tf.keras.Model(inputs, predictions)\n",
        "\n",
        "# Compile the model with crossentropy loss and an adam optimizer.\n",
        "opt = Adam(learning_rate=0.001)\n",
        "model6.compile(loss=\"categorical_crossentropy\", optimizer=opt, metrics=[\"accuracy\"])"
      ],
      "execution_count": null,
      "outputs": [
        {
          "output_type": "stream",
          "text": [
            "Embedding:  KerasTensor(type_spec=TensorSpec(shape=(None, None, 70), dtype=tf.float32, name=None), name='embedding_11/embedding_lookup/Identity_1:0', description=\"created by layer 'embedding_11'\")\n"
          ],
          "name": "stdout"
        }
      ]
    },
    {
      "cell_type": "code",
      "metadata": {
        "colab": {
          "base_uri": "https://localhost:8080/"
        },
        "id": "IavXxrKkW6Lg",
        "outputId": "c879b171-5e71-4852-c0f1-77194c54dc40"
      },
      "source": [
        "epochs = 9\n",
        "batch_size = 20\n",
        "\n",
        "# Fit the model using the train and test datasets.\n",
        "history5 = model6.fit(train_ds,\n",
        "          validation_data=valid_ds, \n",
        "          epochs=epochs, \n",
        "          batch_size=batch_size)"
      ],
      "execution_count": null,
      "outputs": [
        {
          "output_type": "stream",
          "text": [
            "Epoch 1/9\n",
            "6571/6571 [==============================] - 46s 7ms/step - loss: 0.8516 - accuracy: 0.6433 - val_loss: 0.6807 - val_accuracy: 0.7050\n",
            "Epoch 2/9\n",
            "6571/6571 [==============================] - 45s 7ms/step - loss: 0.6938 - accuracy: 0.7087 - val_loss: 0.6631 - val_accuracy: 0.7365\n",
            "Epoch 3/9\n",
            "6571/6571 [==============================] - 45s 7ms/step - loss: 0.6338 - accuracy: 0.7389 - val_loss: 0.6054 - val_accuracy: 0.7677\n",
            "Epoch 4/9\n",
            "6571/6571 [==============================] - 44s 7ms/step - loss: 0.5949 - accuracy: 0.7609 - val_loss: 0.6155 - val_accuracy: 0.7665\n",
            "Epoch 5/9\n",
            "6571/6571 [==============================] - 45s 7ms/step - loss: 0.5792 - accuracy: 0.7651 - val_loss: 0.6176 - val_accuracy: 0.7754\n",
            "Epoch 6/9\n",
            "6571/6571 [==============================] - 45s 7ms/step - loss: 0.5637 - accuracy: 0.7775 - val_loss: 0.5988 - val_accuracy: 0.7729\n",
            "Epoch 7/9\n",
            "6571/6571 [==============================] - 44s 7ms/step - loss: 0.5476 - accuracy: 0.7862 - val_loss: 0.6100 - val_accuracy: 0.7760\n",
            "Epoch 8/9\n",
            "6571/6571 [==============================] - 44s 7ms/step - loss: 0.5393 - accuracy: 0.7781 - val_loss: 0.6166 - val_accuracy: 0.7732\n",
            "Epoch 9/9\n",
            "6571/6571 [==============================] - 44s 7ms/step - loss: 0.5192 - accuracy: 0.7993 - val_loss: 0.5972 - val_accuracy: 0.7763\n"
          ],
          "name": "stdout"
        }
      ]
    },
    {
      "cell_type": "code",
      "metadata": {
        "colab": {
          "base_uri": "https://localhost:8080/",
          "height": 295
        },
        "id": "m6Oks2d_W-49",
        "outputId": "21620d09-a359-4cba-a0a4-7f10be2f6170"
      },
      "source": [
        "plot_history(history5)"
      ],
      "execution_count": null,
      "outputs": [
        {
          "output_type": "display_data",
          "data": {
            "image/png": "[encoded data removed]",
            "text/plain": [
              "<Figure size 432x288 with 1 Axes>"
            ]
          },
          "metadata": {
            "tags": [],
            "needs_background": "light"
          }
        }
      ]
    },
    {
      "cell_type": "code",
      "metadata": {
        "colab": {
          "base_uri": "https://localhost:8080/",
          "height": 180
        },
        "id": "BedE4kKfW-sR",
        "outputId": "255a1569-2d5d-4605-eb93-756de620790d"
      },
      "source": [
        "model6_test = model6.predict(test_ds)\n",
        "labels = np.asarray(tf.concat([y for x, y in test_ds], axis=0))\n",
        "model6_conf = confusion_matrix(\n",
        "        labels.argmax(axis=1),\n",
        "        model6_test.argmax(axis=1)\n",
        "    )\n",
        "print(\"Accuracy: \" + str(round((print_acc(model6_conf))*100,2)) + \"%\")\n",
        "print(\"Error: \" + str(round((1-print_acc(model6_conf))*100,2)) + \"%\")\n",
        "pd.DataFrame(\n",
        "    model6_conf,\n",
        "    index = [\"Neutral\", \"Positive\", \"Negative\"],\n",
        "    columns = [\"Neutral\", \"Positive\", \"Negative\"]\n",
        ")"
      ],
      "execution_count": null,
      "outputs": [
        {
          "output_type": "stream",
          "text": [
            "Accuracy: 78.87%\n",
            "Error: 21.13%\n"
          ],
          "name": "stdout"
        },
        {
          "output_type": "execute_result",
          "data": {
            "text/html": [
              "<div>\n",
              "<style scoped>\n",
              "    .dataframe tbody tr th:only-of-type {\n",
              "        vertical-align: middle;\n",
              "    }\n",
              "\n",
              "    .dataframe tbody tr th {\n",
              "        vertical-align: top;\n",
              "    }\n",
              "\n",
              "    .dataframe thead th {\n",
              "        text-align: right;\n",
              "    }\n",
              "</style>\n",
              "<table border=\"1\" class=\"dataframe\">\n",
              "  <thead>\n",
              "    <tr style=\"text-align: right;\">\n",
              "      <th></th>\n",
              "      <th>Neutral</th>\n",
              "      <th>Positive</th>\n",
              "      <th>Negative</th>\n",
              "    </tr>\n",
              "  </thead>\n",
              "  <tbody>\n",
              "    <tr>\n",
              "      <th>Neutral</th>\n",
              "      <td>2840</td>\n",
              "      <td>195</td>\n",
              "      <td>50</td>\n",
              "    </tr>\n",
              "    <tr>\n",
              "      <th>Positive</th>\n",
              "      <td>411</td>\n",
              "      <td>513</td>\n",
              "      <td>60</td>\n",
              "    </tr>\n",
              "    <tr>\n",
              "      <th>Negative</th>\n",
              "      <td>212</td>\n",
              "      <td>93</td>\n",
              "      <td>458</td>\n",
              "    </tr>\n",
              "  </tbody>\n",
              "</table>\n",
              "</div>"
            ],
            "text/plain": [
              "          Neutral  Positive  Negative\n",
              "Neutral      2840       195        50\n",
              "Positive      411       513        60\n",
              "Negative      212        93       458"
            ]
          },
          "metadata": {
            "tags": []
          },
          "execution_count": 67
        }
      ]
    },
    {
      "cell_type": "code",
      "metadata": {
        "colab": {
          "base_uri": "https://localhost:8080/"
        },
        "id": "JIXSGWTUW-X0",
        "outputId": "28833e6f-9482-4d38-ae22-23bdabd74cdf"
      },
      "source": [
        "print(classification_report(labels.argmax(axis=1),\n",
        "                            model6_test.argmax(axis=1),\n",
        "                            target_names=[\"Neutral\", \"Positive\", \"Negative\"]))"
      ],
      "execution_count": null,
      "outputs": [
        {
          "output_type": "stream",
          "text": [
            "              precision    recall  f1-score   support\n",
            "\n",
            "     Neutral       0.82      0.92      0.87      3085\n",
            "    Positive       0.64      0.52      0.57       984\n",
            "    Negative       0.81      0.60      0.69       763\n",
            "\n",
            "    accuracy                           0.79      4832\n",
            "   macro avg       0.76      0.68      0.71      4832\n",
            "weighted avg       0.78      0.79      0.78      4832\n",
            "\n"
          ],
          "name": "stdout"
        }
      ]
    },
    {
      "cell_type": "markdown",
      "metadata": {
        "id": "9C6Hcigp2lB6"
      },
      "source": [
        "### **Rationale:**\n",
        "As we can see in the above metrics, we were unable to improve the best of the previous models that used the 'Mean' as summary operation to summarize all word vectors into one single vector to make predictions about the most likely class by the Dense Layer.\n",
        "\n",
        "**The main reason might be because we added a huge number of weights to the classification problem, having still the same data to estimate them through the training of the Neural Network**. More precisely, we added an additional vector with the same size of the embedding dimension in the Recurrent Neural Network that had to be trained each time with the input word vectors that comprise each sentence *(that is, using the 'Context Vector', which had to be trained as well)*, and yielding as output the 'Context Vector' with the summarized information of each 20-words tweet that was used to predict the most likely class.\n",
        "\n",
        "Consequently, **we introduced a few changes to the previous Neural Network**, besides replacing the 'Mean' as summary operation by a **RNN Layer** with an output vector of the same size of the Word Embeddings Table. All such changes were made in order to outweigh such increased number of weights to estimate, which are the following ones:\n",
        "\n",
        "*   **We set at '70', instead of '100', the embedding dimension of the word vectors from the Word Embeddings Table**, so that the number of weights to estimate by the Neural Network decreases sufficiently to become feasible to estimate them given the available data, without at the same time simplifying too much the representation of the words in vectors and, therefore, the complexity in terms of dataset that the Neural Network is able to tackle and make predictions from.\n",
        "\n",
        "*   **We increased the Dropout Rate up to '0.85'** in order to introduce more variety in the word vectors and sentences we provided to the RNN, thereby making more difficult by the Neural Network to fit the data.\n",
        "\n",
        "*   **We increased the number of 'epochs' to train the Neural Network up to '9'**, since we are hindering the fitting of the data and, therefore, the Neural Network is going to require more epochs to fit at least most of the Regular Structure and generalize better *(hence, the constant increase in the 'Val_Accuracy')*.\n",
        "\n",
        "*   **We defined a smaller batch size ('20')**, since it is known as an 'indirect or implicit regularization', as we are not providing to the Neural Networks too many observations (sentences or tweets, in our case) before it computes the Back-Propagation algorithm, thereby making the learning process of the Neural Network more imprecise to get to the minimum of the Loss Function and, consequently, it tends to generalize better.\n",
        "\n",
        "However, even with all these changes and the aforementioned rationale, we were unable to outperform the best model with the 'Mean' as summary vector, as stated above. This is likely because having not sufficient data to train the Neural Network resulted in the previous changes that, especially the reduction of the embedding dimension, eventually led to a simpler Neural Network that was not able to capture all the intricacies and complexity of the data but, at the same time, we could not make it more complex given the data limitation we had.\n",
        "\n",
        "**Overall though, Recurrent Neural Networks tend to work best in these settings**, since they entail a natural way *(or a 'Neural Network way')* to summarize different vectors of data, which in Text Analytics represent words from the Word Embeddings Table, into one single vector to make predictions from, instead of choosing an arbitrary way *(the Mean, the maximum value, etc)* to summarize those word vectors to provide a single vector representing a sentence to make predictions from.\n",
        "\n",
        "In this regard, with such increased data we could even increase the vocabulary size, which we limited at 2000 words, as well as making the most of the Recurrent Neural Network to provide more reliable classifications. Nevertheless, this practice resulted in a useful introduction to Text Analytics through Neural Networks and how different approaches might be mixed to achieve more accurate predictions.\n"
      ]
    },
    {
      "cell_type": "code",
      "metadata": {
        "id": "xUtUJdX7Zit1"
      },
      "source": [
        ""
      ],
      "execution_count": null,
      "outputs": []
    }
  ]
}